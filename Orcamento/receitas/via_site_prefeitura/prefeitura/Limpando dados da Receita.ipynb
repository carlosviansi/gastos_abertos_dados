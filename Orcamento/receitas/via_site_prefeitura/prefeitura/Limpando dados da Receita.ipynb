{
 "metadata": {
  "name": "",
  "signature": "sha256:4621faa492e7affdbcea16280e81a29cbf7133daae1166da889e5be55a0a2c3d"
 },
 "nbformat": 3,
 "nbformat_minor": 0,
 "worksheets": [
  {
   "cells": [
    {
     "cell_type": "code",
     "collapsed": false,
     "input": [
      "import pandas as pd\n",
      "import numpy as np\n",
      "from datetime import datetime, timedelta\n",
      "import calendar\n",
      "\n",
      "\n",
      "def convert_year(year):\n",
      "    dates = [datetime.strptime('{}-{}'.format(year, m), '%Y-%m') for m in range(1,13)]    \n",
      "    receita = pd.read_csv('{}.csv'.format(year))\n",
      "    rs = receita[['Descri\u00e7\u00e3o_Rubrica_C\u00f3digo', 'Descri\u00e7\u00e3o_Al\u00ednea_C\u00f3digo', 'Descri\u00e7\u00e3o_Sub_Al\u00ednea_C\u00f3digo','Valor_Previsto_Receita_Anual1', 'Valor_Realizado_Receita']]\n",
      "    \n",
      "    new_revenues = pd.DataFrame(columns=['id', 'data', 'codigo', 'descricao', 'previsto_mensal', 'realizado_mensal'])\n",
      "\n",
      "    for line, rev in rs.iterrows():\n",
      "        if type(rev['Descri\u00e7\u00e3o_Sub_Al\u00ednea_C\u00f3digo']) == type(''):\n",
      "            desc_col = rev['Descri\u00e7\u00e3o_Sub_Al\u00ednea_C\u00f3digo']\n",
      "        elif type(rev['Descri\u00e7\u00e3o_Al\u00ednea_C\u00f3digo']) == type(''):\n",
      "            desc_col = rev['Descri\u00e7\u00e3o_Al\u00ednea_C\u00f3digo']\n",
      "        elif type(rev['Descri\u00e7\u00e3o_Rubrica_C\u00f3digo']) == type(''):\n",
      "            desc_col = rev['Descri\u00e7\u00e3o_Rubrica_C\u00f3digo']\n",
      "        \n",
      "        code, desc = map(lambda s: str(s).strip(), desc_col.split('-', 1))\n",
      "        new_revenues.loc[line] = [int(line), dates[line % 12].strftime('%Y-%m'), code, desc, rev['Valor_Previsto_Receita_Anual1'], rev['Valor_Realizado_Receita']]\n",
      "        \n",
      "    new_revenues.to_csv('receitas-{}.csv'.format(year), index=False)"
     ],
     "language": "python",
     "metadata": {},
     "outputs": [],
     "prompt_number": 147
    },
    {
     "cell_type": "code",
     "collapsed": false,
     "input": [
      "for year in range(2008, 2015):\n",
      "    convert_year(year)"
     ],
     "language": "python",
     "metadata": {},
     "outputs": [],
     "prompt_number": 150
    },
    {
     "cell_type": "code",
     "collapsed": false,
     "input": [
      "ls"
     ],
     "language": "python",
     "metadata": {},
     "outputs": [
      {
       "output_type": "stream",
       "stream": "stdout",
       "text": [
        "2008.csv  2010.csv  2012.csv  2014.csv                         receitas-2008.csv  receitas-2010.csv  receitas-2012.csv  receitas-2014.csv\r\n",
        "2009.csv  2011.csv  2013.csv  Limpando dados da Receita.ipynb  receitas-2009.csv  receitas-2011.csv  receitas-2013.csv\r\n"
       ]
      }
     ],
     "prompt_number": 151
    },
    {
     "cell_type": "code",
     "collapsed": false,
     "input": [
      "# Concatenando arquivos CSV\n",
      "\n",
      "!head -1 receitas-2008.csv > receitas_min.csv && for f in receitas-20* ; do tail -n +2 $f >> receitas_min.csv ; done"
     ],
     "language": "python",
     "metadata": {},
     "outputs": []
    }
   ],
   "metadata": {}
  }
 ]
}